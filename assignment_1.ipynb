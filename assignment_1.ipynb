{
  "nbformat": 4,
  "nbformat_minor": 0,
  "metadata": {
    "colab": {
      "name": "assignment_1.ipynb",
      "provenance": [],
      "collapsed_sections": [],
      "authorship_tag": "ABX9TyM+xUNQL2v1Unfv+v3rX6N8",
      "include_colab_link": true
    },
    "kernelspec": {
      "name": "python3",
      "display_name": "Python 3"
    },
    "accelerator": "GPU"
  },
  "cells": [
    {
      "cell_type": "markdown",
      "metadata": {
        "id": "view-in-github",
        "colab_type": "text"
      },
      "source": [
        "<a href=\"https://colab.research.google.com/github/amder111/linearVsBinarySearch/blob/master/assignment_1.ipynb\" target=\"_parent\"><img src=\"https://colab.research.google.com/assets/colab-badge.svg\" alt=\"Open In Colab\"/></a>"
      ]
    },
    {
      "cell_type": "code",
      "metadata": {
        "id": "uzqNhXPyZb3s",
        "colab_type": "code",
        "outputId": "914633e8-b5ee-4ecc-d911-bf50c8999c79",
        "colab": {
          "base_uri": "https://localhost:8080/",
          "height": 34
        }
      },
      "source": [
        "def linear_search(array, target):\n",
        "\n",
        "    linear_search_data = {}  \n",
        "    position = 0\n",
        "\n",
        "    for i in array:\n",
        "        if i == target:\n",
        "            linear_search_data[\"Found\"] = True\n",
        "            linear_search_data[\"Position\"] = position\n",
        "            return linear_search_data\n",
        "        position += 1\n",
        "    \n",
        "    linear_search_data[\"Found\"] = False\n",
        "    return linear_search_data\n",
        "\n",
        "a = linear_search(array=[1,23,4,121234,8952,2552,5989,412], target=5989)\n",
        "\n",
        "a"
      ],
      "execution_count": 8,
      "outputs": [
        {
          "output_type": "execute_result",
          "data": {
            "text/plain": [
              "{'Found': True, 'Position': 6}"
            ]
          },
          "metadata": {
            "tags": []
          },
          "execution_count": 8
        }
      ]
    },
    {
      "cell_type": "code",
      "metadata": {
        "id": "LxLEH8pEda4t",
        "colab_type": "code",
        "colab": {}
      },
      "source": [
        "def binary_search(array, target):\n",
        "    \n",
        "    array.sort()\n",
        "\n",
        "    lower_bound = 0\n",
        "    upper_bound = len(array) - 1\n",
        "    mid_index = (lower_bound + upper_bound) // 2\n",
        "    \n",
        "    binary_search_data = {}\n",
        "    binary_search_data[\"Found\"] = False\n",
        "    binary_search_data[\"Position\"] = 0\n",
        "    binary_search_data[\"Comparison\"] = 0\n",
        "\n",
        "    while lower_bound <= upper_bound:\n",
        "        \n",
        "        if array[mid_index] == target:    \n",
        "            binary_search_data[\"Found\"] = True\n",
        "            binary_search_data[\"Position\"] = mid_index\n",
        "            binary_search_data[\"Comparison\"] += 1\n",
        "            break\n",
        "\n",
        "        if target > array[mid_index]:\n",
        "            binary_search_data[\"Comparison\"] += 1\n",
        "            lower_bound = mid_index + 1\n",
        "            mid_index = (lower_bound + upper_bound) // 2\n",
        "        else:\n",
        "            upper_bound = mid_index - 1\n",
        "            binary_search_data[\"Comparison\"] += 1\n",
        "            mid_index = (lower_bound + upper_bound) // 2\n",
        "\n",
        "    return binary_search_data"
      ],
      "execution_count": 0,
      "outputs": []
    },
    {
      "cell_type": "code",
      "metadata": {
        "id": "_CD7H0h1fxwY",
        "colab_type": "code",
        "colab": {}
      },
      "source": [
        "a=binary_search([1,662,43,695,558,44,5,86,97,85,5559,510],558)"
      ],
      "execution_count": 0,
      "outputs": []
    },
    {
      "cell_type": "code",
      "metadata": {
        "id": "h_cxyoOHv6g-",
        "colab_type": "code",
        "outputId": "24b9998b-1105-419e-b7c7-474d312d084c",
        "colab": {
          "base_uri": "https://localhost:8080/",
          "height": 34
        }
      },
      "source": [
        "a"
      ],
      "execution_count": 11,
      "outputs": [
        {
          "output_type": "execute_result",
          "data": {
            "text/plain": [
              "{'Comparison': 2, 'Found': True, 'Position': 8}"
            ]
          },
          "metadata": {
            "tags": []
          },
          "execution_count": 11
        }
      ]
    },
    {
      "cell_type": "code",
      "metadata": {
        "id": "Kbbu-9vhw5W8",
        "colab_type": "code",
        "colab": {}
      },
      "source": [
        "import numpy as np\n",
        "import matplotlib.pyplot as plt"
      ],
      "execution_count": 0,
      "outputs": []
    },
    {
      "cell_type": "code",
      "metadata": {
        "id": "XCccltomyd8u",
        "colab_type": "code",
        "colab": {}
      },
      "source": [
        "def draw_plot(number_of_elements):\n",
        "    array = np.random.randint(1,high=100000,size=number_of_elements, dtype=int)\n",
        "\n",
        "\n",
        "    x_axis = []\n",
        "    y_axis = []                                                         # Comparision for Linear Search list\n",
        "    z_axis = []                                                         # Comparision for Binary Search list\n",
        " \n",
        "    number_of_comparison_linear = 0\n",
        "    number_of_comparison_binary = 0\n",
        "\n",
        "\n",
        "    for i in range(1,2):\n",
        "        random_index_for_search = np.random.randint(0,len(array)-1)      # As we have 10k elements we take a random index b/w 0...99999\n",
        "        a = linear_search(array, target=array[random_index_for_search])\n",
        "        number_of_comparison_linear += a[\"Position\"] + 1\n",
        "\n",
        "        b = binary_search(array, target=array[random_index_for_search])\n",
        "        number_of_comparison_binary += b[\"Comparison\"]\n",
        "\n",
        "    x_axis.append(1)\n",
        "\n",
        "    y_axis.append(number_of_comparison_linear)\n",
        "    \n",
        "    z_axis.append(number_of_comparison_binary)\n",
        "\n",
        "    number_of_comparison_linear = 0\n",
        "    number_of_comparison_binary = 0\n",
        "\n",
        "    for i in range(1,1001):\n",
        "        random_index_for_search = np.random.randint(0,len(array)-1)      # As we have 10k elements we take a random index b/w 0...99999\n",
        "        a = linear_search(array, target=array[random_index_for_search])\n",
        "        number_of_comparison_linear += a[\"Position\"] + 1\n",
        "\n",
        "        b = binary_search(array, target=array[random_index_for_search])\n",
        "        number_of_comparison_binary += b[\"Comparison\"]\n",
        "\n",
        "    x_axis.append(1000)\n",
        "\n",
        "    y_axis.append(number_of_comparison_linear)\n",
        "    \n",
        "    z_axis.append(number_of_comparison_binary)\n",
        "\n",
        "    number_of_comparison_linear = 0\n",
        "    number_of_comparison_binary = 0\n",
        "\n",
        "    for i in range(1,5001):\n",
        "        random_index_for_search = np.random.randint(0,len(array)-1)      # As we have 10k elements we take a random index b/w 0...99999\n",
        "        a = linear_search(array, target=array[random_index_for_search])\n",
        "        number_of_comparison_linear += a[\"Position\"] + 1\n",
        "        b = binary_search(array, target=array[random_index_for_search])\n",
        "        number_of_comparison_binary += b[\"Comparison\"]\n",
        "\n",
        "    x_axis.append(5000)\n",
        "    y_axis.append(number_of_comparison_linear)\n",
        "    \n",
        "    z_axis.append(number_of_comparison_binary)\n",
        "\n",
        "    number_of_comparison_linear = 0\n",
        "    number_of_comparison_binary = 0\n",
        "\n",
        "    for i in range(1,8001):\n",
        "        random_index_for_search = np.random.randint(0,len(array)-1)      # As we have 10k elements we take a random index b/w 0...99999\n",
        "        a = linear_search(array, target=array[random_index_for_search])\n",
        "        number_of_comparison_linear += a[\"Position\"] + 1\n",
        "        \n",
        "        b = binary_search(array, target=array[random_index_for_search])\n",
        "        number_of_comparison_binary += b[\"Comparison\"]\n",
        "\n",
        "    x_axis.append(8000)\n",
        "    y_axis.append(number_of_comparison_linear)\n",
        "    \n",
        "    z_axis.append(number_of_comparison_binary)\n",
        "\n",
        "    number_of_comparison_linear = 0\n",
        "    number_of_comparison_binary = 0\n",
        "\n",
        "    for i in range(1,10001):\n",
        "        random_index_for_search = np.random.randint(0,len(array)-1)      # As we have 10k elements we take a random index b/w 0...99999\n",
        "        a = linear_search(array, target=array[random_index_for_search])\n",
        "        number_of_comparison_linear += a[\"Position\"] + 1\n",
        "        \n",
        "        b = binary_search(array, target=array[random_index_for_search])\n",
        "        number_of_comparison_binary += b[\"Comparison\"]\n",
        "\n",
        "    x_axis.append(10000)\n",
        "    y_axis.append(number_of_comparison_linear)\n",
        "    \n",
        "    z_axis.append(number_of_comparison_binary)\n",
        "\n",
        "    print(\"Number of Searches performed:\")\n",
        "    print(x_axis)\n",
        "    print(\"Number of Linear comparision:\")\n",
        "    print(y_axis)\n",
        "    print(\"Number of Binary Search Comparisions\")\n",
        "    print(z_axis)\n",
        "\n",
        "    \n",
        "    plt.plot(x_axis, y_axis)\n",
        "    plt.plot(x_axis, z_axis)\n",
        "    plt.title(\"For a \" + str(number_of_elements) + \" Element Array\")\n",
        "    plt.xlabel(\"Number of Searches performed\")\n",
        "    plt.ylabel(\"Number of Comparision\")\n",
        "    plt.legend([\"Linear Search\", \"Binary Search\"])\n",
        "    plt.show()"
      ],
      "execution_count": 0,
      "outputs": []
    },
    {
      "cell_type": "code",
      "metadata": {
        "id": "BKyjpe3WL2LV",
        "colab_type": "code",
        "outputId": "c82a5941-26b0-407e-c336-84bdeef28721",
        "colab": {
          "base_uri": "https://localhost:8080/",
          "height": 1000
        }
      },
      "source": [
        "draw_plot(1000)\n",
        "draw_plot(5000)\n",
        "draw_plot(10000)"
      ],
      "execution_count": 14,
      "outputs": [
        {
          "output_type": "stream",
          "text": [
            "Number of Searches performed:\n",
            "[1, 1000, 5000, 8000, 10000]\n",
            "Number of Linear comparision:\n",
            "[236, 506507, 2506740, 4032055, 4995935]\n",
            "Number of Binary Search Comparisions\n",
            "[10, 8998, 44935, 71839, 89680]\n"
          ],
          "name": "stdout"
        },
        {
          "output_type": "display_data",
          "data": {
            "image/png": "[encoded data removed]",
            "text/plain": [
              "<Figure size 432x288 with 1 Axes>"
            ]
          },
          "metadata": {
            "tags": []
          }
        },
        {
          "output_type": "stream",
          "text": [
            "Number of Searches performed:\n",
            "[1, 1000, 5000, 8000, 10000]\n",
            "Number of Linear comparision:\n",
            "[4250, 2568704, 12600041, 19927437, 25149451]\n",
            "Number of Binary Search Comparisions\n",
            "[12, 11300, 56607, 90538, 113327]\n"
          ],
          "name": "stdout"
        },
        {
          "output_type": "display_data",
          "data": {
            "image/png": "[encoded data removed]",
            "text/plain": [
              "<Figure size 432x288 with 1 Axes>"
            ]
          },
          "metadata": {
            "tags": []
          }
        },
        {
          "output_type": "stream",
          "text": [
            "Number of Searches performed:\n",
            "[1, 1000, 5000, 8000, 10000]\n",
            "Number of Linear comparision:\n",
            "[9426, 5164172, 25086586, 39960940, 50207322]\n",
            "Number of Binary Search Comparisions\n",
            "[11, 12362, 61288, 98060, 122678]\n"
          ],
          "name": "stdout"
        },
        {
          "output_type": "display_data",
          "data": {
            "image/png": "[encoded data removed]",
            "text/plain": [
              "<Figure size 432x288 with 1 Axes>"
            ]
          },
          "metadata": {
            "tags": []
          }
        }
      ]
    },
    {
      "cell_type": "code",
      "metadata": {
        "id": "55pqLH45L9tp",
        "colab_type": "code",
        "colab": {}
      },
      "source": [
        ""
      ],
      "execution_count": 0,
      "outputs": []
    }
  ]
}